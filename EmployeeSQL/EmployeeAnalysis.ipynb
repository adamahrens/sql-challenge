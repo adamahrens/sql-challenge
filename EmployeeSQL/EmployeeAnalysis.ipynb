{
 "cells": [
  {
   "cell_type": "code",
   "execution_count": 1,
   "metadata": {},
   "outputs": [],
   "source": [
    "import json\n",
    "import sqlalchemy\n",
    "\n",
    "with open('config.json') as json_data_file:\n",
    "    data = json.load(json_data_file)\n",
    "\n",
    "user = data['postgresql']['user']\n",
    "password = data['postgresql']['password']\n",
    "host = data['postgresql']['host']\n",
    "db = data['postgresql']['db'] \n",
    "connection_url = 'postgresql://{user}:{password}@{host}:55553/{db}'.format(user=user, password=password, host=host, db=db)"
   ]
  },
  {
   "cell_type": "code",
   "execution_count": null,
   "metadata": {},
   "outputs": [],
   "source": [
    "engine = sqlalchemy.create_engine(connection_url)\n",
    "connection = engine.connect()\n",
    "result = connection.execute('SELECT * FROM employees ORDER BY emp_no LIMIT 10')\n",
    "for row in result:\n",
    "    print(row)"
   ]
  },
  {
   "cell_type": "code",
   "execution_count": null,
   "metadata": {},
   "outputs": [],
   "source": [
    "print('Fetched Results')"
   ]
  }
 ],
 "metadata": {
  "kernelspec": {
   "display_name": "Python 3",
   "language": "python",
   "name": "python3"
  },
  "language_info": {
   "codemirror_mode": {
    "name": "ipython",
    "version": 3
   },
   "file_extension": ".py",
   "mimetype": "text/x-python",
   "name": "python",
   "nbconvert_exporter": "python",
   "pygments_lexer": "ipython3",
   "version": "3.7.1"
  }
 },
 "nbformat": 4,
 "nbformat_minor": 2
}
